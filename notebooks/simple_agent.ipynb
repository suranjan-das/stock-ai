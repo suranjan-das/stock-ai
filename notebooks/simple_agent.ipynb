{
 "cells": [
  {
   "cell_type": "markdown",
   "id": "d7435c73-ac2f-427e-af38-73b217b273d3",
   "metadata": {},
   "source": [
    "### Langraph Experiments"
   ]
  },
  {
   "cell_type": "code",
   "execution_count": 1,
   "id": "c06bf503-6d8c-4410-a45c-075a28079f0f",
   "metadata": {},
   "outputs": [],
   "source": [
    "from IPython.display import Image, display\n",
    "import pandas as pd\n",
    "import json\n",
    "from dotenv import load_dotenv\n",
    "import time\n",
    "import yfinance as yf\n",
    "\n",
    "from fuzzywuzzy import process\n",
    "\n",
    "from langchain_openai import ChatOpenAI\n",
    "from langchain.chat_models import init_chat_model\n",
    "from langchain_core.messages import SystemMessage, HumanMessage\n",
    "from langchain_core.prompts import ChatPromptTemplate\n",
    "from langchain_core.tools import tool\n",
    "from langchain_core.runnables import RunnableConfig\n",
    "\n",
    "from langgraph.graph import StateGraph, START, END\n",
    "from langgraph.prebuilt import ToolNode\n",
    "from langgraph.prebuilt import tools_condition\n",
    "from langgraph.checkpoint.memory import MemorySaver\n",
    "\n",
    "from typing import TypedDict, Literal, Optional"
   ]
  },
  {
   "cell_type": "code",
   "execution_count": 2,
   "id": "b0c2451e-e58f-48c7-86e3-23a874814a4d",
   "metadata": {},
   "outputs": [],
   "source": [
    "# Constants\n",
    "FUZZY_LIMIT = 5\n",
    "LOW_CONFIDENCE_THRESHOLD = 50  # Minimum score to consider\n",
    "HIGH_CONFIDENCE_THRESHOLD = 90  # If score ≥ 90, skip LLM"
   ]
  },
  {
   "cell_type": "code",
   "execution_count": 3,
   "id": "e54e6586-4a01-4630-9f93-b3a3bf6428e2",
   "metadata": {},
   "outputs": [
    {
     "data": {
      "text/plain": [
       "True"
      ]
     },
     "execution_count": 3,
     "metadata": {},
     "output_type": "execute_result"
    }
   ],
   "source": [
    "# Load env variables from .env.example\n",
    "load_dotenv(\"../.env\")"
   ]
  },
  {
   "cell_type": "code",
   "execution_count": 4,
   "id": "5da4b1bd-1002-45c1-b000-370b3a2d5b55",
   "metadata": {},
   "outputs": [],
   "source": [
    "# initialize model for large number of input tokens\n",
    "llmg = init_chat_model(\"gemini-2.0-flash\", model_provider=\"google_genai\")"
   ]
  },
  {
   "cell_type": "code",
   "execution_count": 5,
   "id": "1a0269b2-0aaf-42c4-bacb-a4b78be7ac5d",
   "metadata": {},
   "outputs": [],
   "source": [
    "# Initialize the LLM\n",
    "llm = ChatOpenAI(model=\"gpt-4.1-nano\", temperature=0)"
   ]
  },
  {
   "cell_type": "code",
   "execution_count": 6,
   "id": "f2b2ac1a-1eb7-4426-9c35-ab8dfd566f28",
   "metadata": {},
   "outputs": [],
   "source": [
    "# Load CSV of NSE companies\n",
    "df = pd.read_csv(\"../data/EQUITY_L.csv\")  # Assumes columns: \"Company Name\", \"Symbol\"\n",
    "company_names = df[\"NAME OF COMPANY\"].tolist()"
   ]
  },
  {
   "cell_type": "code",
   "execution_count": 7,
   "id": "52253066-cd3a-4721-bd49-90e29d687524",
   "metadata": {},
   "outputs": [],
   "source": [
    "# Define the state\n",
    "class GraphState(TypedDict):\n",
    "    query: str\n",
    "    query_type: str  # Options: \"single_stock\", \"multiple_general_stock\", \"greeting\", \"other\", \"reset\"\n",
    "    symbol: str\n",
    "    stock_info: dict\n",
    "    stock_info_timestamp: float  # Timestamp for stock_info freshness\n",
    "    response: str"
   ]
  },
  {
   "cell_type": "code",
   "execution_count": 8,
   "id": "8024582b-dc83-4d3f-906a-440699da4bec",
   "metadata": {},
   "outputs": [],
   "source": [
    "# Prompt to detect follow-up queries\n",
    "prompt_detect_follow_up = ChatPromptTemplate.from_template(\n",
    "    \"Determine if the following query is a follow-up to a previous stock query or a new query. \"\n",
    "    \"Follow-up queries refer to a previously mentioned stock (e.g., using 'it', 'that stock', or no company name) or request to reset the session (e.g., 'reset session'). \"\n",
    "    \"Respond with one word: 'follow_up', 'new', or 'reset'. \"\n",
    "    \"Query: {query}\"\n",
    ")\n",
    "\n",
    "# Prompt to classify query\n",
    "prompt_classify = ChatPromptTemplate.from_template(\n",
    "    \"Classify the following query into one of four categories: \"\n",
    "    \"'single_stock' (about a specific stock, e.g., 'What is the price of Tata Motors?', 'Should I invest in Bajaj Finance?'), \"\n",
    "    \"'multiple_general_stock' (about multiple stocks or general stock market, e.g., 'Compare SBI and HDFC Bank' or 'How is the stock market doing?'), \"\n",
    "    \"'greeting' (general greetings like 'hello', 'hi', or 'good morning'), or \"\n",
    "    \"'other' (any other query, e.g., 'What's the weather?'). \"\n",
    "    \"Respond with only one word: 'single_stock', 'multiple_general_stock', 'greeting', or 'other'. \"\n",
    "    \"Query: {query}\"\n",
    ")\n",
    "\n",
    "# Prompt to extract company name\n",
    "prompt_extract_symbol = ChatPromptTemplate.from_template(\n",
    "    \"Extract only the company or stock name from the user's stock-related query. \"\n",
    "    \"Respond with the company name or stock ticker as a single string. \"\n",
    "    \"Query: {query}\"\n",
    ")\n",
    "\n",
    "# Prompt to disambiguate company name\n",
    "prompt_disambiguate = ChatPromptTemplate.from_template(\n",
    "    \"A user asked about the company: '{extracted_name}'.\\n\"\n",
    "    \"Here is a list of possible company names:\\n{match_list_str}\\n\\n\"\n",
    "    \"Which one do you think they meant? Reply with the exact company name from the list. \"\n",
    "    \"If none are correct, reply with 'NO_MATCH'.\"\n",
    ")\n",
    "\n",
    "# Prompt to answer user query\n",
    "prompt_answer_query = ChatPromptTemplate.from_template(\n",
    "    \"You are a helpful financial expert who can provide answers to user queries.\\n\\n\"\n",
    "    \"You are provided with structured stock-related data for a company: {stock_info}\\n\\n\"\n",
    "    \"The user has asked: {query}\\n\\n\"\n",
    "    \"Your task:\\n\"\n",
    "    \"- If the query can be answered using ONLY the provided data, give a clear, concise response (max 150 words).\\n\"\n",
    "    \"- If the data is insufficient to fully answer the query, state clearly that the available information is not enough.\\n\\n\"\n",
    "    \"Do not use any external knowledge or assumptions. Base your answer strictly on the given data.\"\n",
    ")\n",
    "\n",
    "# Prompt for polite rejection (non-stock queries)\n",
    "prompt_reject_other = ChatPromptTemplate.from_template(\n",
    "    \"Politely inform the user that this app only handles queries about a single stock. \"\n",
    "    \"Do not provide any information related to the query: {query}\"\n",
    ")\n",
    "\n",
    "# Prompt for polite rejection (multiple/general stock queries)\n",
    "prompt_reject_multi = ChatPromptTemplate.from_template(\n",
    "    \"Politely inform the user that this app is designed to assist with the analysis of a single stock at a time. \"\n",
    "    \"Do not provide any information related to the query: {query}\"\n",
    ")"
   ]
  },
  {
   "cell_type": "code",
   "execution_count": 54,
   "id": "68c5563c-e07e-4ed1-9e5f-2a639dc94071",
   "metadata": {},
   "outputs": [],
   "source": [
    "# # Node to detect follow-up or reset queries\n",
    "# def detect_follow_up(state: GraphState, config: Optional[RunnableConfig] = None) -> GraphState:\n",
    "#     chain = prompt_detect_follow_up | llm\n",
    "#     result = chain.invoke({\"query\": state[\"query\"]}).content.strip()\n",
    "    \n",
    "#     if result == \"reset\":\n",
    "#         state[\"query_type\"] = \"reset\"\n",
    "#         return state\n",
    "    \n",
    "#     if result == \"follow_up\":\n",
    "#         # Safely access config and checkpointer\n",
    "#         if config and isinstance(config, dict) and \"configurable\" in config:\n",
    "#             thread_id = config[\"configurable\"].get(\"thread_id\")\n",
    "#             checkpointer = config[\"configurable\"].get(\"checkpointer\")\n",
    "#             if thread_id and checkpointer:\n",
    "#                 checkpoint = checkpointer.get({\"configurable\": {\"thread_id\": thread_id}})\n",
    "#                 if (checkpoint and isinstance(checkpoint, dict) and \n",
    "#                     \"state\" in checkpoint and \n",
    "#                     checkpoint[\"state\"].get(\"symbol\") and \n",
    "#                     checkpoint[\"state\"].get(\"stock_info\")):\n",
    "#                     state[\"symbol\"] = checkpoint[\"state\"][\"symbol\"]\n",
    "#                     state[\"stock_info\"] = checkpoint[\"state\"][\"stock_info\"]\n",
    "#                     state[\"stock_info_timestamp\"] = checkpoint[\"state\"].get(\"stock_info_timestamp\", 0.0)\n",
    "#                     state[\"query_type\"] = \"single_stock\"\n",
    "#                 else:\n",
    "#                     state[\"response\"] = \"No previous stock context found. Please specify a company name.\"\n",
    "#                     state[\"symbol\"] = \"NO_MATCH\"\n",
    "#                     state[\"query_type\"] = \"other\"\n",
    "#             else:\n",
    "#                 state[\"response\"] = \"No previous stock context found. Please specify a company name.\"\n",
    "#                 state[\"symbol\"] = \"NO_MATCH\"\n",
    "#                 state[\"query_type\"] = \"other\"\n",
    "#         else:\n",
    "#             state[\"response\"] = \"No previous stock context found. Please specify a company name.\"\n",
    "#             state[\"symbol\"] = \"NO_MATCH\"\n",
    "#             state[\"query_type\"] = \"other\"\n",
    "#     else:\n",
    "#         state[\"query_type\"] = None  # Proceed to classify as new query\n",
    "    \n",
    "#     return state"
   ]
  },
  {
   "cell_type": "code",
   "execution_count": 9,
   "id": "b7c82952-8eba-43d7-82a9-b6af64bc622e",
   "metadata": {},
   "outputs": [],
   "source": [
    "# Node to detect follow-up or reset queries\n",
    "def detect_follow_up(state: GraphState, config: Optional[RunnableConfig] = None) -> GraphState:\n",
    "    chain = prompt_detect_follow_up | llm\n",
    "    result = chain.invoke({\"query\": state[\"query\"]}).content.strip()\n",
    "    if result == \"reset\":\n",
    "        state[\"query_type\"] = \"reset\"\n",
    "        return state\n",
    "    elif result == \"follow_up\":\n",
    "        # Load previous state from checkpoint\n",
    "        checkpointer = config.get(\"configurable\", {}).get(\"checkpointer\")\n",
    "        thread_id = config.get(\"configurable\", {}).get(\"thread_id\")\n",
    "        if checkpointer and thread_id:\n",
    "            checkpoint = checkpointer.get({\"configurable\": {\"thread_id\": thread_id}})\n",
    "            if checkpoint and \"state\" in checkpoint and checkpoint[\"state\"].get(\"symbol\") and checkpoint[\"state\"].get(\"stock_info\"):\n",
    "                state[\"symbol\"] = checkpoint[\"state\"][\"symbol\"]\n",
    "                state[\"stock_info\"] = checkpoint[\"state\"][\"stock_info\"]\n",
    "                state[\"stock_info_timestamp\"] = checkpoint[\"state\"].get(\"stock_info_timestamp\", 0.0)\n",
    "                state[\"query_type\"] = \"single_stock\"\n",
    "            else:\n",
    "                state[\"response\"] = \"No previous stock context found. Please specify a company name.\"\n",
    "                state[\"symbol\"] = \"NO_MATCH\"\n",
    "                state[\"stock_info\"] = None\n",
    "                state[\"query_type\"] = \"other\"\n",
    "        else:\n",
    "            state[\"response\"] = \"No previous stock context found. Please specify a company name.\"\n",
    "            state[\"symbol\"] = \"NO_MATCH\"\n",
    "            state[\"query_type\"] = \"other\"\n",
    "    else:\n",
    "        state[\"query_type\"] = None  # Proceed to classify as new query\n",
    "    return state"
   ]
  },
  {
   "cell_type": "code",
   "execution_count": 10,
   "id": "63e722f9-4c4f-46cd-903a-318178a2bde3",
   "metadata": {},
   "outputs": [],
   "source": [
    "# Node to check query type using LLM\n",
    "def check_query_type(state: GraphState) -> GraphState:\n",
    "    chain = prompt_classify | llm\n",
    "    result = chain.invoke({\"query\": state[\"query\"]}).content.strip()\n",
    "    state[\"query_type\"] = result\n",
    "    return state\n",
    "\n",
    "# Node to answer user query\n",
    "def answer_user_query(state: GraphState) -> GraphState:\n",
    "    if state[\"symbol\"] == \"NO_MATCH\":\n",
    "        return state  # Response already set\n",
    "    chain = prompt_answer_query | llm\n",
    "    formatted_info = json.dumps(state[\"stock_info\"], indent=2)\n",
    "    result = chain.invoke({\"query\": state[\"query\"], \"stock_info\": formatted_info}).content.strip()\n",
    "    state[\"response\"] = result\n",
    "    return state\n",
    "\n",
    "# Node to handle multiple/general stock queries\n",
    "def handle_multiple_general_stock_query(state: GraphState) -> GraphState:\n",
    "    chain = prompt_reject_multi | llm\n",
    "    result = chain.invoke({\"query\": state[\"query\"]}).content\n",
    "    state[\"response\"] = result\n",
    "    return state\n",
    "\n",
    "# Node to handle greetings\n",
    "def handle_greeting(state: GraphState) -> GraphState:\n",
    "    state[\"response\"] = \"Hello! I'm here to help with queries about a single stock. Please ask about a specific stock.\"\n",
    "    return state\n",
    "\n",
    "# Node to handle non-stock, non-greeting queries\n",
    "def handle_other_query(state: GraphState) -> GraphState:\n",
    "    chain = prompt_reject_other | llm\n",
    "    result = chain.invoke({\"query\": state[\"query\"]}).content\n",
    "    state[\"response\"] = result\n",
    "    return state\n",
    "\n",
    "# Node to reset memory\n",
    "def reset_session(state: GraphState) -> GraphState:\n",
    "    state[\"response\"] = \"Session reset. Please start a new query about a single stock.\"\n",
    "    state[\"symbol\"] = \"\"\n",
    "    state[\"stock_info\"] = {}\n",
    "    state[\"stock_info_timestamp\"] = 0.0\n",
    "    state[\"query_type\"] = \"reset\"\n",
    "    return state"
   ]
  },
  {
   "cell_type": "code",
   "execution_count": 11,
   "id": "77e385a3-a90d-41a6-9c8b-40f491a22db8",
   "metadata": {},
   "outputs": [],
   "source": [
    "# Node to extract company symbol for single stock queries\n",
    "def extract_symbol(state: GraphState) -> GraphState:\n",
    "    chain = prompt_extract_symbol | llm\n",
    "    extracted_name = chain.invoke({\"query\": state[\"query\"]}).content.strip()\n",
    "    \n",
    "    # Fuzzy matching\n",
    "    matches = process.extract(extracted_name, company_names, limit=FUZZY_LIMIT)\n",
    "    best_match, best_score = matches[0]\n",
    "    \n",
    "    # High-confidence match\n",
    "    if best_score >= HIGH_CONFIDENCE_THRESHOLD:\n",
    "        state[\"symbol\"] = df[df[\"NAME OF COMPANY\"] == best_match][\"SYMBOL\"].values[0]\n",
    "        return state\n",
    "    \n",
    "    # Filter matches\n",
    "    filtered_matches = [(name, score) for name, score in matches if score >= LOW_CONFIDENCE_THRESHOLD]\n",
    "    if not filtered_matches:\n",
    "        state[\"response\"] = \"No company matches found for your query. Please specify a valid company name.\"\n",
    "        state[\"symbol\"] = \"NO_MATCH\"\n",
    "        return state\n",
    "    \n",
    "    # Disambiguate with LLM\n",
    "    match_list_str = \"\\n\".join([f\"- {name}\" for name, _ in filtered_matches])\n",
    "    chain = prompt_disambiguate | llm\n",
    "    llm_response = chain.invoke({\"extracted_name\": extracted_name, \"match_list_str\": match_list_str}).content.strip()\n",
    "    \n",
    "    if llm_response == \"NO_MATCH\":\n",
    "        state[\"response\"] = \"No company matches found for your query. Please specify a valid company name.\"\n",
    "        state[\"symbol\"] = \"NO_MATCH\"\n",
    "    elif llm_response in df[\"NAME OF COMPANY\"].values:\n",
    "        state[\"symbol\"] = df[df[\"NAME OF COMPANY\"] == llm_response][\"SYMBOL\"].values[0]\n",
    "    else:\n",
    "        state[\"response\"] = \"Unable to identify the company. Please clarify the company name.\"\n",
    "        state[\"symbol\"] = \"NO_MATCH\"\n",
    "    \n",
    "    return state"
   ]
  },
  {
   "cell_type": "code",
   "execution_count": 12,
   "id": "b0deed4a-618d-4fdf-934c-92d381cadd8f",
   "metadata": {},
   "outputs": [],
   "source": [
    "# Node to fetch stock data\n",
    "def get_stock_info(state: GraphState) -> GraphState:\n",
    "    if state[\"symbol\"] == \"NO_MATCH\":\n",
    "        return state  # Response already set in extract_symbol\n",
    "    try:\n",
    "        stock_symbol = state[\"symbol\"]\n",
    "        stock = yf.Ticker(f\"{stock_symbol}.NS\")\n",
    "        info = stock.info\n",
    "        # Read the CSV that contains the keys to keep\n",
    "        keys_df = pd.read_csv(\"../important_keys.csv\", header=None)\n",
    "        keys_to_keep = set(keys_df.iloc[0].dropna().tolist())\n",
    "        # Filter dictionary\n",
    "        filtered_info = {k: v for k, v in info.items() if k in keys_to_keep}\n",
    "        state[\"stock_info\"] = filtered_info\n",
    "    except Exception as e:\n",
    "        state[\"response\"] = f\"Failed to fetch stock data for {stock_symbol}: {str(e)}. Please try again or specify a different company.\"\n",
    "        state[\"stock_info\"] = {}\n",
    "        state[\"symbol\"] = \"NO_MATCH\"\n",
    "    return state"
   ]
  },
  {
   "cell_type": "code",
   "execution_count": 13,
   "id": "5a5edf2e-2fa5-4495-94e6-68ea17f271f3",
   "metadata": {},
   "outputs": [],
   "source": [
    "# Conditional edge to route based on follow-up detection\n",
    "def route_follow_up(state: GraphState) -> Literal[\"check_query_type\", \"extract_symbol\", \"reset_session\"]:\n",
    "    if state[\"query_type\"] == \"reset\":\n",
    "        return \"reset_session\"\n",
    "    elif state[\"query_type\"] == \"single_stock\":\n",
    "        return \"get_stock_info\"  # Follow-up query with symbol already set\n",
    "    else:\n",
    "        return \"check_query_type\"\n",
    "\n",
    "# Conditional edge to route based on query_type\n",
    "def route_query(state: GraphState) -> Literal[\"single_stock\", \"multiple_general_stock\", \"greeting\", \"other\"]:\n",
    "    return state[\"query_type\"]\n",
    "\n",
    "# Conditional edge to check symbol extraction result\n",
    "def check_symbol(state: GraphState) -> Literal[\"get_stock_info\", \"end\"]:\n",
    "    return \"end\" if state[\"symbol\"] == \"NO_MATCH\" else \"get_stock_info\""
   ]
  },
  {
   "cell_type": "code",
   "execution_count": 17,
   "id": "1797229f-3a27-4686-9d21-9eb027ecd28b",
   "metadata": {},
   "outputs": [],
   "source": [
    "# Build the graph\n",
    "workflow = StateGraph(GraphState)"
   ]
  },
  {
   "cell_type": "code",
   "execution_count": 18,
   "id": "1ee47013-22ed-4a3e-abb9-a9721539cc75",
   "metadata": {},
   "outputs": [
    {
     "data": {
      "text/plain": [
       "<langgraph.graph.state.StateGraph at 0x25ab2634590>"
      ]
     },
     "execution_count": 18,
     "metadata": {},
     "output_type": "execute_result"
    }
   ],
   "source": [
    "# Add nodes\n",
    "workflow.add_node(\"detect_follow_up\", detect_follow_up)\n",
    "workflow.add_node(\"check_query_type\", check_query_type)\n",
    "workflow.add_node(\"extract_symbol\", extract_symbol)\n",
    "workflow.add_node(\"get_stock_info\", get_stock_info)\n",
    "workflow.add_node(\"answer_user_query\", answer_user_query)\n",
    "workflow.add_node(\"handle_multiple_general_stock_query\", handle_multiple_general_stock_query)\n",
    "workflow.add_node(\"handle_greeting\", handle_greeting)\n",
    "workflow.add_node(\"handle_other_query\", handle_other_query)\n",
    "workflow.add_node(\"reset_session\", reset_session)"
   ]
  },
  {
   "cell_type": "code",
   "execution_count": 19,
   "id": "24faf202-585c-498b-bdbc-36066dcc67e5",
   "metadata": {},
   "outputs": [
    {
     "data": {
      "text/plain": [
       "<langgraph.graph.state.StateGraph at 0x25ab2634590>"
      ]
     },
     "execution_count": 19,
     "metadata": {},
     "output_type": "execute_result"
    }
   ],
   "source": [
    "# Add edges\n",
    "workflow.set_entry_point(\"detect_follow_up\")\n",
    "workflow.add_conditional_edges(\n",
    "    \"detect_follow_up\",\n",
    "    route_follow_up,\n",
    "    {\n",
    "        \"check_query_type\": \"check_query_type\",\n",
    "        \"get_stock_info\": \"get_stock_info\",\n",
    "        \"reset_session\": \"reset_session\"\n",
    "    }\n",
    ")\n",
    "workflow.add_conditional_edges(\n",
    "    \"check_query_type\",\n",
    "    route_query,\n",
    "    {\n",
    "        \"single_stock\": \"extract_symbol\",\n",
    "        \"multiple_general_stock\": \"handle_multiple_general_stock_query\",\n",
    "        \"greeting\": \"handle_greeting\",\n",
    "        \"other\": \"handle_other_query\"\n",
    "    }\n",
    ")\n",
    "workflow.add_conditional_edges(\n",
    "    \"extract_symbol\",\n",
    "    check_symbol,\n",
    "    {\n",
    "        \"get_stock_info\": \"get_stock_info\",\n",
    "        \"end\": END\n",
    "    }\n",
    ")\n",
    "workflow.add_edge(\"get_stock_info\", \"answer_user_query\")\n",
    "workflow.add_edge(\"answer_user_query\", END)\n",
    "workflow.add_edge(\"handle_multiple_general_stock_query\", END)\n",
    "workflow.add_edge(\"handle_greeting\", END)\n",
    "workflow.add_edge(\"handle_other_query\", END)\n",
    "workflow.add_edge(\"reset_session\", END)"
   ]
  },
  {
   "cell_type": "code",
   "execution_count": 20,
   "id": "6e33e4db-abe5-408b-a501-6bd8a0728ee5",
   "metadata": {},
   "outputs": [],
   "source": [
    "# Configure memory\n",
    "checkpointer = MemorySaver()\n",
    "\n",
    "# Compile the graph with checkpointer\n",
    "app = workflow.compile(checkpointer=checkpointer)"
   ]
  },
  {
   "cell_type": "code",
   "execution_count": 50,
   "id": "22c01a53-1ba0-4b67-96d8-8473c6c2f20a",
   "metadata": {},
   "outputs": [
    {
     "data": {
      "image/png": "[encoded data removed]",
      "text/plain": [
       "<IPython.core.display.Image object>"
      ]
     },
     "metadata": {},
     "output_type": "display_data"
    }
   ],
   "source": [
    "# View\n",
    "display(Image(app.get_graph().draw_mermaid_png()))"
   ]
  },
  {
   "cell_type": "code",
   "execution_count": null,
   "id": "d2e86b48-11ec-4b74-8a86-c5f126c921d0",
   "metadata": {},
   "outputs": [],
   "source": [
    "\"Should I invest in Reliance Industries based on its current valuation metrics?\"\n",
    "\"Is Tata Steel a risky investment based on its recent price movements?\"\n",
    "\"How attractive is HDFC Bank for dividend-focused investors?\"\n",
    "\"Is Reliance Industries currently trading near its yearly high or low?\"\n",
    "\"What does the recent trading volume of Tata Steel suggest about investor interest?\"\n",
    "\"Is HDFC Bank's market capitalization reasonable for its sector?\"\n",
    "\"Does Reliance Industries' P/E ratio indicate it is overvalued or undervalued compared to typical industry standards?\"\n",
    "\"How stable is Tata Steel’s stock price based on its historical data?\""
   ]
  },
  {
   "cell_type": "code",
   "execution_count": 21,
   "id": "1526a724-c810-4919-8607-4a127993b255",
   "metadata": {},
   "outputs": [],
   "source": [
    "thread_id = \"user_session_1\"  # Unique identifier for user session\n",
    "config = {\"configurable\": {\"thread_id\": thread_id, \"checkpointer\": checkpointer}}"
   ]
  },
  {
   "cell_type": "code",
   "execution_count": 77,
   "id": "9efd8bd7-9d2b-4468-b1d4-9cc019c2650e",
   "metadata": {},
   "outputs": [],
   "source": [
    "# output = app.invoke({\"query\": input()}, config=config)\n",
    "# print(output['response'])"
   ]
  },
  {
   "cell_type": "code",
   "execution_count": 22,
   "id": "0331ad9d-7683-46c3-bb52-563819d5805a",
   "metadata": {},
   "outputs": [
    {
     "name": "stdout",
     "output_type": "stream",
     "text": [
      "Single stock response: The current price of Havells India Limited is approximately ₹1463.5.\n"
     ]
    }
   ],
   "source": [
    "# Test with a single stock query\n",
    "result = app.invoke({\"query\": \"What is the price of Havells India?\"}, config=config)\n",
    "print(\"Single stock response:\", result[\"response\"])"
   ]
  },
  {
   "cell_type": "code",
   "execution_count": 84,
   "id": "7021bfa9-fcc0-4c0c-8657-903cb15ca6d1",
   "metadata": {},
   "outputs": [],
   "source": [
    "# # Test with a follow-up query\n",
    "# result = app.invoke({\"query\": \"What is its dividend yield?\"}, config=config)\n",
    "# print(\"Follow-up response:\", result[\"response\"])"
   ]
  },
  {
   "cell_type": "code",
   "execution_count": 23,
   "id": "ad93811b-a4e4-44f9-9d80-e071900518a3",
   "metadata": {},
   "outputs": [
    {
     "name": "stdout",
     "output_type": "stream",
     "text": [
      "()\n",
      "1f0773bb-de6b-6885-8005-17aee18df417\n",
      "\n",
      "('answer_user_query',)\n",
      "1f0773bb-cc70-6ab3-8004-cbbe07b5867f\n",
      "\n",
      "('get_stock_info',)\n",
      "1f0773bb-bfe0-6ee6-8003-387e165f3ec7\n",
      "\n",
      "('extract_symbol',)\n",
      "1f0773bb-b270-6d8f-8002-1138143917f9\n",
      "\n",
      "('check_query_type',)\n",
      "1f0773bb-a840-6db6-8001-282f047e32e4\n",
      "\n",
      "('detect_follow_up',)\n",
      "1f0773bb-9d53-6e12-8000-b077592e9a82\n",
      "\n",
      "('__start__',)\n",
      "1f0773bb-9d53-6e11-bfff-a239437f986b\n",
      "\n"
     ]
    }
   ],
   "source": [
    "# The states are returned in reverse chronological order.\n",
    "states = list(app.get_state_history(config))\n",
    "\n",
    "for state in states:\n",
    "    print(state.next)\n",
    "    print(state.config[\"configurable\"][\"checkpoint_id\"])\n",
    "    print()"
   ]
  },
  {
   "cell_type": "code",
   "execution_count": 25,
   "id": "d229d39e-a7b4-4848-9a68-d75111a83de4",
   "metadata": {},
   "outputs": [],
   "source": [
    "# This is the state before last (states are listed in chronological order)\n",
    "selected_state = states[1]\n",
    "# print(selected_state.next)\n",
    "# print(selected_state.values)"
   ]
  },
  {
   "cell_type": "code",
   "execution_count": 99,
   "id": "81e48544-b90e-40c2-9b6e-26d3460bd135",
   "metadata": {},
   "outputs": [],
   "source": [
    "checkpoint_values = selected_state.values\n",
    "checkpoint_values[\"query\"] = 'Is it a good time to buy'"
   ]
  },
  {
   "cell_type": "code",
   "execution_count": 28,
   "id": "64fcbde7-2592-44f8-9fa9-8790d86af7d8",
   "metadata": {},
   "outputs": [
    {
     "name": "stdout",
     "output_type": "stream",
     "text": [
      "{'configurable': {'thread_id': 'user_session_1', 'checkpoint_ns': '', 'checkpoint_id': '1f0773c4-c958-675e-8005-df93a3c92702'}}\n"
     ]
    }
   ],
   "source": [
    "new_config = app.update_state(selected_state.config, values={\"query\": \"what is the dividend yield?\"})\n",
    "print(new_config)"
   ]
  },
  {
   "cell_type": "code",
   "execution_count": 32,
   "id": "0bde469f-ff2a-470a-b584-8f4c8cda2fbb",
   "metadata": {},
   "outputs": [
    {
     "data": {
      "text/plain": [
       "'The dividend yield for Havells India Limited is 0.67%.'"
      ]
     },
     "execution_count": 32,
     "metadata": {},
     "output_type": "execute_result"
    }
   ],
   "source": [
    "output = app.invoke(None, new_config)\n",
    "output['response']"
   ]
  }
 ],
 "metadata": {
  "kernelspec": {
   "display_name": "Python 3 (ipykernel)",
   "language": "python",
   "name": "python3"
  },
  "language_info": {
   "codemirror_mode": {
    "name": "ipython",
    "version": 3
   },
   "file_extension": ".py",
   "mimetype": "text/x-python",
   "name": "python",
   "nbconvert_exporter": "python",
   "pygments_lexer": "ipython3",
   "version": "3.12.11"
  }
 },
 "nbformat": 4,
 "nbformat_minor": 5
}

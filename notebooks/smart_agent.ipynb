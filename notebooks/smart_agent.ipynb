{
 "cells": [
  {
   "cell_type": "code",
   "execution_count": 132,
   "id": "32778f94-3535-477a-8730-bf2587ed6a99",
   "metadata": {},
   "outputs": [],
   "source": [
    "from IPython.display import Image, display\n",
    "import pandas as pd\n",
    "import json\n",
    "from functools import lru_cache\n",
    "from dotenv import load_dotenv\n",
    "import re\n",
    "from rapidfuzz import process, fuzz\n",
    "import yfinance as yf\n",
    "\n",
    "from langchain_openai import ChatOpenAI\n",
    "from langchain.chat_models import init_chat_model\n",
    "from langchain_core.messages import SystemMessage, HumanMessage, AnyMessage\n",
    "from langchain_core.messages import RemoveMessage\n",
    "from langchain_core.prompts import ChatPromptTemplate\n",
    "\n",
    "from langgraph.graph import StateGraph, START, END\n",
    "from langgraph.graph import MessagesState\n",
    "from langgraph.graph.message import add_messages\n",
    "from langgraph.graph.message import REMOVE_ALL_MESSAGES\n",
    "from langgraph.prebuilt import ToolNode\n",
    "from langgraph.prebuilt import tools_condition\n",
    "from langgraph.checkpoint.memory import MemorySaver\n",
    "\n",
    "from typing import TypedDict, Literal, Optional, List, Dict, Union\n",
    "from typing_extensions import Annotated\n",
    "from operator import add"
   ]
  },
  {
   "cell_type": "code",
   "execution_count": 133,
   "id": "54a299bd-fc18-40db-a26a-a02fdb1a4f5f",
   "metadata": {},
   "outputs": [
    {
     "data": {
      "text/plain": [
       "True"
      ]
     },
     "execution_count": 133,
     "metadata": {},
     "output_type": "execute_result"
    }
   ],
   "source": [
    "# Load env variables from .env.example\n",
    "load_dotenv(\"../.env\")"
   ]
  },
  {
   "cell_type": "code",
   "execution_count": null,
   "id": "38ecef9f-a907-472c-854f-035edcad32fb",
   "metadata": {},
   "outputs": [],
   "source": [
    "# initialize model for large number of input tokens\n",
    "llmg = init_chat_model(\"gemini-2.0-flash-lite\", model_provider=\"google_genai\")"
   ]
  },
  {
   "cell_type": "code",
   "execution_count": 135,
   "id": "117f5613-98e2-48c8-b25d-a065bb652b99",
   "metadata": {},
   "outputs": [],
   "source": [
    "# Load CSV of NSE companies\n",
    "df = pd.read_csv(\"../data/EQUITY_L.csv\")\n",
    "company_names = df[\"NAME OF COMPANY\"].tolist()"
   ]
  },
  {
   "cell_type": "code",
   "execution_count": 136,
   "id": "070f1982-e1d4-4258-bf70-41424d1538c1",
   "metadata": {},
   "outputs": [],
   "source": [
    "# Custom reducer function for merging dictionaries\n",
    "def merge_dicts(current: Dict, update: Dict) -> Dict:\n",
    "    \"\"\"\n",
    "    Merge two dictionaries, with update taking precedence for overlapping keys.\n",
    "    You can customize this logic (e.g., deep merge, append to lists, etc.).\n",
    "    \"\"\"\n",
    "    new_dict = current.copy()  # Create a copy to avoid mutating the original\n",
    "    new_dict.update(update)    # Merge update into current\n",
    "    return new_dict"
   ]
  },
  {
   "cell_type": "code",
   "execution_count": 137,
   "id": "7580aba0-8a0c-4079-965f-2595eae75089",
   "metadata": {},
   "outputs": [],
   "source": [
    "class GraphState(MessagesState):\n",
    "    query_type: Literal[\"new\", \"follow_up\", \"other\"]\n",
    "    symbol: str = None       # Stock symbol, e.g., 'HDFCBANK'\n",
    "    news_required: bool = False\n",
    "    data: Annotated[Dict, merge_dicts]  # merge dict updates\n",
    "    response: str = None     # Model's textual reply"
   ]
  },
  {
   "cell_type": "code",
   "execution_count": 138,
   "id": "b18ba15a-b94b-4018-82a1-2aceb596dbe1",
   "metadata": {},
   "outputs": [],
   "source": [
    "prompt_classify_input_query = ChatPromptTemplate.from_template(\n",
    "    \"You are a query classifier for a stock analysis app.\\n\"\n",
    "    \"You will be given a list of user messages. Focus on the **last message** in context of the conversation.\\n\\n\"\n",
    "    \"Classify the last message into exactly one of these categories:\\n\"\n",
    "    \"1. 'new' — The last message is about **exactly one specific stock or company**, either by:\\n\"\n",
    "    \"   - Explicit company name (e.g., 'Tata Motors', 'Infosys'),\\n\"\n",
    "    \"   - Common abbreviation or short name (e.g., 'SBI' for State Bank of India),\\n\"\n",
    "    \"   - A valid stock ticker (e.g., 'HDFCBANK', 'RELIANCE').\\n\"\n",
    "    \"   The stock should not have been mentioned in the previous messages.\\n\\n\"\n",
    "    \"2. 'follow_up' — The last message refers to the **same stock already discussed earlier** without explicitly naming it, \"\n",
    "    \"or uses terms like 'it', 'that stock', 'this company', 'the bank', 'the one we talked about'.\\n\\n\"\n",
    "    \"3. 'other' — The last message is unrelated to stocks, mentions multiple stocks, or is about general market trends, sectors, or industries.\\n\\n\"\n",
    "    \"Important:\\n\"\n",
    "    \"- Treat **abbreviations, acronyms, and tickers** as valid company mentions.\\n\"\n",
    "    \"- Always pick only one label.\\n\"\n",
    "    \"- Return only the label text ('new', 'follow_up', or 'other'), nothing else.\\n\\n\"\n",
    "    \"Conversation messages: {messages}\\n\"\n",
    "    \"Last message to classify: {messages}[-1]\"\n",
    ")\n"
   ]
  },
  {
   "cell_type": "code",
   "execution_count": 139,
   "id": "682e9e90-99c6-491a-afeb-47baa04aa23b",
   "metadata": {},
   "outputs": [],
   "source": [
    "def classify_query(state: GraphState) -> dict:\n",
    "    chain = prompt_classify_input_query | llmg\n",
    "    result = chain.invoke({\"messages\": state[\"messages\"]}).content.strip()\n",
    "\n",
    "    if result == \"new\":\n",
    "        return {\"messages\": [RemoveMessage(id=m.id) for m in state[\"messages\"][:-1]],\n",
    "                \"query_type\": \"new\",\n",
    "                \"symbol\": None,\n",
    "                \"data\": {}\n",
    "               }\n",
    "    elif result == \"follow_up\":\n",
    "        return {\"query_type\": \"follow_up\"}\n",
    "    else:\n",
    "        return {\"query_type\": \"other\"}"
   ]
  },
  {
   "cell_type": "code",
   "execution_count": 140,
   "id": "e7af451d-2047-4297-ae7c-74a8b1cee440",
   "metadata": {},
   "outputs": [],
   "source": [
    "def handle_follow_up_query(state: GraphState):\n",
    "    # for future use\n",
    "    return"
   ]
  },
  {
   "cell_type": "code",
   "execution_count": 141,
   "id": "49c35a48-a805-47ba-9cb4-c4c29550d5f9",
   "metadata": {},
   "outputs": [],
   "source": [
    "def route_query(state: GraphState) -> Literal[\"new\", \"follow_up\", \"other\"]:\n",
    "    return state[\"query_type\"]"
   ]
  },
  {
   "cell_type": "code",
   "execution_count": 142,
   "id": "e068839c-6bc3-42e1-bac3-df0e1bfb29e0",
   "metadata": {},
   "outputs": [],
   "source": [
    "# Prompt to extract company name\n",
    "prompt_extract_symbol = ChatPromptTemplate.from_template(\n",
    "    \"Extract only the company or stock name from the user's stock-related messages. \"\n",
    "    \"Respond with the extracted company name from the query as a single string. \"\n",
    "    \"messages: {messages}\"\n",
    ")\n",
    "\n",
    "prompt_disambiguate = ChatPromptTemplate.from_template(\"\"\"\n",
    "You are a financial assistant that helps identify the correct Indian company \n",
    "from a user's query.\n",
    "\n",
    "The user has asked about this stock or company: \"{user_query}\"\n",
    "\n",
    "Here are the possible company matches from our database:\n",
    "{candidates}\n",
    "\n",
    "Your task:\n",
    "- Pick the single most likely company name from the candidates that matches the user's intent.\n",
    "- If none of the candidates are a good match, output \"NO_MATCH\".\n",
    "- Do NOT explain your reasoning, just output the company name (or \"NO_MATCH\").\n",
    "\n",
    "Answer strictly with only one of:\n",
    "1. A company name from the candidates list, OR\n",
    "2. \"NO_MATCH\"\n",
    "\"\"\")\n"
   ]
  },
  {
   "cell_type": "code",
   "execution_count": 143,
   "id": "969259db-6827-43ed-8e91-78ce30c4f365",
   "metadata": {},
   "outputs": [],
   "source": [
    "def normalize(text: str) -> str:\n",
    "    text = text.lower().strip()\n",
    "    text = re.sub(r'[^a-z0-9\\s]', '', text)  # remove punctuation\n",
    "    text = re.sub(r'\\b(ltd|limited|inc|corp|company|co)\\b', '', text)  # remove suffixes\n",
    "    return re.sub(r'\\s+', ' ', text).strip()\n",
    "\n",
    "def extract_symbol(state: GraphState) -> dict:\n",
    "    query = state[\"messages\"][-1]  # user query\n",
    "    chain = prompt_extract_symbol | llmg\n",
    "    extracted_name = chain.invoke({\"messages\": state[\"messages\"]}).content.strip()\n",
    "\n",
    "    # Normalize\n",
    "    extracted_norm = normalize(extracted_name)\n",
    "\n",
    "    # Try direct symbol match first\n",
    "    if extracted_norm.upper() in df[\"SYMBOL\"].values:\n",
    "        return {\"symbol\": extracted_norm.upper()}\n",
    "\n",
    "    # Exact match on company name\n",
    "    for name in df[\"NAME OF COMPANY\"].values:\n",
    "        if normalize(name) == extracted_norm:\n",
    "            symbol = df[df[\"NAME OF COMPANY\"] == name][\"SYMBOL\"].values[0]\n",
    "            return {\"symbol\": symbol}\n",
    "\n",
    "    # Fuzzy match (RapidFuzz)\n",
    "    matches = process.extract(\n",
    "        extracted_norm, \n",
    "        [normalize(n) for n in company_names], \n",
    "        scorer=fuzz.token_sort_ratio,\n",
    "        limit=3\n",
    "    )\n",
    "\n",
    "    best_match, best_score, idx = matches[0]\n",
    "\n",
    "    if best_score >= 90:  # high confidence\n",
    "        symbol = df.iloc[idx][\"SYMBOL\"]\n",
    "        return {\"symbol\": symbol}\n",
    "\n",
    "    elif best_score >= 75:  # medium confidence → ask LLM\n",
    "        candidates = [df.iloc[m[2]][\"NAME OF COMPANY\"] for m in matches]\n",
    "        disambig_chain = prompt_disambiguate | llmg\n",
    "        final_choice = disambig_chain.invoke({\"user_query\": extracted_name, \"candidates\": candidates})\n",
    "        # pick symbol of chosen company\n",
    "        chosen = final_choice.content.strip()\n",
    "        symbol = df[df[\"NAME OF COMPANY\"] == chosen][\"SYMBOL\"].values[0]\n",
    "        return {\"symbol\": symbol}\n",
    "\n",
    "    return {\"symbol\": \"NO_MATCH\"}"
   ]
  },
  {
   "cell_type": "code",
   "execution_count": 144,
   "id": "99a68ac9-19ab-40cf-b4fd-0df6805958a5",
   "metadata": {},
   "outputs": [],
   "source": [
    "# Cache important keys CSV so it’s loaded only once\n",
    "@lru_cache(maxsize=1)\n",
    "def load_keys_to_keep(csv_path=\"../important_keys.csv\"):\n",
    "    try:\n",
    "        keys_df = pd.read_csv(csv_path, header=None)\n",
    "        return set(keys_df.iloc[0].dropna().tolist())\n",
    "    except Exception:\n",
    "        return set()"
   ]
  },
  {
   "cell_type": "code",
   "execution_count": 145,
   "id": "2f47a889-f660-4143-90b4-4530c518ea41",
   "metadata": {},
   "outputs": [],
   "source": [
    "def get_stock_info(state: GraphState) -> dict:\n",
    "    # Handle missing/invalid symbol\n",
    "    if state.get(\"symbol\") == \"NO_MATCH\":\n",
    "        return {\"data\": {\"stock_info\": \"No data available for this stock.\"}}\n",
    "\n",
    "    stock_symbol = state[\"symbol\"]\n",
    "    try:\n",
    "        stock = yf.Ticker(f\"{stock_symbol}.NS\")\n",
    "    except Exception:\n",
    "        return {\"data\": {\"stock_info\": \"No data available for this stock.\"}}\n",
    "\n",
    "     # Handle new queries → fetch structured stock info\n",
    "    try:\n",
    "        keys_to_keep = load_keys_to_keep()\n",
    "        info = stock.info\n",
    "        filtered_info = {k: v for k, v in info.items() if k in keys_to_keep}\n",
    "    except Exception:\n",
    "        filtered_info = {\"data\": {\"stock_info\": \"No data available for this stock.\"}}\n",
    "\n",
    "    return {\"data\": {\"stock_info\": filtered_info}}"
   ]
  },
  {
   "cell_type": "code",
   "execution_count": 146,
   "id": "a1988688-0cef-4774-b0b4-4c0c530331f2",
   "metadata": {},
   "outputs": [],
   "source": [
    "def get_stock_news(state: GraphState) -> dict:\n",
    "    news_string = \"\"\n",
    "    stock_symbol = state[\"symbol\"]\n",
    "    try:\n",
    "        stock = yf.Ticker(f\"{stock_symbol}.NS\")\n",
    "        news = stock.get_news(count=3)\n",
    "        for article in news:\n",
    "            news_string += f\"Publication Date: {article['content']['pubDate'][:10]}\\nsummary:  {article['content']['summary']}\\n\"\n",
    "    except Exception as e:\n",
    "        print(f\"error getting news: {e}\")\n",
    "    return {\"data\": {\"stock_news\": news_string}}"
   ]
  },
  {
   "cell_type": "code",
   "execution_count": 147,
   "id": "ea495b49-d546-4d12-95f5-0c5880648ef0",
   "metadata": {},
   "outputs": [],
   "source": [
    "prompt_handle_other = ChatPromptTemplate.from_template(\n",
    "    \"You are a polite assistant for a stock analysis app.\\n\"\n",
    "    \"You will be given a user message.\\n\\n\"\n",
    "    \"Rules:\\n\"\n",
    "    \"1. If it is a simple greeting (hello, hi, good morning, how are you, etc.):\\n\"\n",
    "    \"   - Greet back warmly.\\n\"\n",
    "    \"2. For any other message:\\n\"\n",
    "    \"   - Politely explain that this app can only help with single stock analysis and cannot answer other types of questions.\\n\\n\"\n",
    "    \"message: {messages}\"\n",
    ")\n",
    "# Refined prompt to answer user messages\n",
    "prompt_answer_query = ChatPromptTemplate.from_template(\n",
    "    \"You are a professional financial analyst tasked with answering user queries.\\n\\n\"\n",
    "    \"You are provided with structured stock-related data for a company:\\n\"\n",
    "    \"{stock_parameters}\\n\\n\"\n",
    "    \"You are also provided with recent news excerpts related to this company or stock:\\n\"\n",
    "    \"{news_data}\\n\\n\"\n",
    "    \"User query:\\n\"\n",
    "    \"{messages}\\n\\n\"\n",
    "    \"Guidelines for your response:\\n\"\n",
    "    \"- Base your answer strictly on the provided stock parameters and news excerpts.\\n\"\n",
    "    \"- Use news excerpts only if they add meaningful context or insights; Do not include irrelevant details.\\n\"\n",
    "    \"- Provide a clear, accurate, and professional explanation in concise language (max 300–350 words).\\n\"\n",
    "    \"- If the available data is insufficient to fully answer the query, explicitly state the limitation.\\n\"\n",
    "    \"- Do not use external knowledge, speculation, or assumptions.\\n\\n\"\n",
    "    \"Your response should be factual, structured, and precise, resembling the tone of a financial report.\"\n",
    ")\n"
   ]
  },
  {
   "cell_type": "code",
   "execution_count": 148,
   "id": "9115f08e-981d-42a2-9956-191239435e17",
   "metadata": {},
   "outputs": [],
   "source": [
    "def answer_query(state: GraphState) -> dict:\n",
    "    if state.get(\"query_type\") == \"other\":\n",
    "        chain = prompt_handle_other | llmg\n",
    "        result = chain.invoke({\"messages\": state[\"messages\"][-1]})\n",
    "        return {\"response\": result}\n",
    "    # define the llm chain\n",
    "    chain = prompt_answer_query | llmg\n",
    "    # get stock parameters\n",
    "    if state[\"data\"][\"stock_info\"]: \n",
    "        formatted_info = json.dumps(state[\"data\"][\"stock_info\"], indent=2)\n",
    "    else:\n",
    "        formatted_info = \"No stock info available!\"\n",
    "    # Get news data    \n",
    "    if state[\"data\"][\"stock_news\"]:\n",
    "        news_info = state[\"data\"][\"stock_news\"]\n",
    "    else:\n",
    "        news_info = \"Sorry. No news data available!!\"\n",
    "    result = chain.invoke({\n",
    "            \"messages\": state[\"messages\"][-1],\n",
    "            \"stock_parameters\": formatted_info,\n",
    "            \"news_data\": news_info\n",
    "        })\n",
    "    return {\"response\": result}"
   ]
  },
  {
   "cell_type": "code",
   "execution_count": 149,
   "id": "898bc82e-62b4-4ad2-81aa-bfb8d6fb72fe",
   "metadata": {},
   "outputs": [
    {
     "data": {
      "text/plain": [
       "<langgraph.graph.state.StateGraph at 0x192c59dee40>"
      ]
     },
     "execution_count": 149,
     "metadata": {},
     "output_type": "execute_result"
    }
   ],
   "source": [
    "# Build the graph\n",
    "workflow = StateGraph(GraphState)\n",
    "\n",
    "workflow.add_node(\"classify_query\", classify_query)\n",
    "workflow.add_node(\"handle_follow_up_query\", handle_follow_up_query)\n",
    "workflow.add_node(\"extract_symbol\", extract_symbol)\n",
    "workflow.add_node(\"get_stock_info\", get_stock_info)\n",
    "workflow.add_node(\"get_stock_news\", get_stock_news)\n",
    "workflow.add_node(\"answer_query\", answer_query)\n",
    "\n",
    "workflow.add_edge(START, \"classify_query\")\n",
    "workflow.add_conditional_edges(\n",
    "    \"classify_query\",\n",
    "    route_query,\n",
    "    {\n",
    "        \"new\": \"extract_symbol\",\n",
    "        \"follow_up\": \"handle_follow_up_query\",\n",
    "        \"other\": \"answer_query\"\n",
    "    }\n",
    ")\n",
    "workflow.add_edge(\"extract_symbol\", \"get_stock_info\")\n",
    "workflow.add_edge(\"extract_symbol\", \"get_stock_news\")\n",
    "workflow.add_edge(\"get_stock_info\", \"answer_query\")\n",
    "workflow.add_edge(\"get_stock_news\", \"answer_query\")\n",
    "workflow.add_edge(\"handle_follow_up_query\", \"answer_query\")\n",
    "workflow.add_edge(\"answer_query\", END)"
   ]
  },
  {
   "cell_type": "code",
   "execution_count": 150,
   "id": "04497b1b-97b7-4b2f-904e-1400e380b1cc",
   "metadata": {},
   "outputs": [],
   "source": [
    "# Configure memory\n",
    "checkpointer = MemorySaver()\n",
    "# Compile the graph with checkpointer\n",
    "app = workflow.compile(checkpointer=checkpointer)"
   ]
  },
  {
   "cell_type": "code",
   "execution_count": 151,
   "id": "7835aefc-3e1d-4014-9edd-11d69d59bade",
   "metadata": {},
   "outputs": [
    {
     "data": {
      "image/png": "[encoded data removed]",
      "text/plain": [
       "<IPython.core.display.Image object>"
      ]
     },
     "metadata": {},
     "output_type": "display_data"
    }
   ],
   "source": [
    "# View\n",
    "display(Image(app.get_graph().draw_mermaid_png()))"
   ]
  },
  {
   "cell_type": "code",
   "execution_count": 154,
   "id": "e17e66fa-6701-4a4a-b375-682badad5752",
   "metadata": {},
   "outputs": [
    {
     "name": "stdout",
     "output_type": "stream",
     "text": [
      " give me current price of tcs.\n"
     ]
    },
    {
     "name": "stdout",
     "output_type": "stream",
     "text": [
      "The current price of Tata Consultancy Services (TCS.NS) is 3014.0 INR.\n",
      "\n",
      "Based on recent news, TCS is navigating a complex environment. While the company announced salary increases for 80% of its workforce, it also implemented layoffs affecting over 12,000 employees. TCS attributed these layoffs to skill mismatches, but industry experts suggest this could be the start of a broader trend of AI-fueled job eliminations within the Indian IT sector. This context provides a more nuanced view of the company's current situation, beyond just the stock price.\n"
     ]
    }
   ],
   "source": [
    "config = {\"configurable\": {\"thread_id\": \"test_1\"}}\n",
    "node_to_stream = 'answer_query'\n",
    "input_message = HumanMessage(content=input())\n",
    "async for event in app.astream_events({\"messages\": [input_message]}, config, version=\"v2\"):\n",
    "    # Get chat model tokens from a particular node \n",
    "    if event[\"event\"] == \"on_chat_model_stream\" and event['metadata'].get('langgraph_node','') == node_to_stream:\n",
    "        data = event[\"data\"]\n",
    "        print(data[\"chunk\"].content, end=\"\")"
   ]
  }
 ],
 "metadata": {
  "kernelspec": {
   "display_name": "Python 3 (ipykernel)",
   "language": "python",
   "name": "python3"
  },
  "language_info": {
   "codemirror_mode": {
    "name": "ipython",
    "version": 3
   },
   "file_extension": ".py",
   "mimetype": "text/x-python",
   "name": "python",
   "nbconvert_exporter": "python",
   "pygments_lexer": "ipython3",
   "version": "3.12.11"
  }
 },
 "nbformat": 4,
 "nbformat_minor": 5
}

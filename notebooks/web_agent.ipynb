{
 "cells": [
  {
   "cell_type": "code",
   "execution_count": 4,
   "id": "d79e11f6-1e09-45cc-a83e-32037caae6ce",
   "metadata": {},
   "outputs": [],
   "source": [
    "from dotenv import load_dotenv\n",
    "\n",
    "from langchain_tavily import TavilySearch"
   ]
  },
  {
   "cell_type": "code",
   "execution_count": 3,
   "id": "8cf3e154-b877-41dd-b0a7-68475cbd5722",
   "metadata": {},
   "outputs": [
    {
     "data": {
      "text/plain": [
       "True"
      ]
     },
     "execution_count": 3,
     "metadata": {},
     "output_type": "execute_result"
    }
   ],
   "source": [
    "# import env variable\n",
    "load_dotenv(\"../.env\")"
   ]
  },
  {
   "cell_type": "code",
   "execution_count": 5,
   "id": "66eee739-8089-4417-a99c-3d2e7f161a7f",
   "metadata": {},
   "outputs": [],
   "source": [
    "tool = TavilySearch(\n",
    "    max_results=1,\n",
    "    topic=\"finance\",\n",
    "    # include_answer=False,\n",
    "    # include_raw_content=False,\n",
    "    # include_images=False,\n",
    "    # include_image_descriptions=False,\n",
    "    # search_depth=\"basic\",\n",
    "    # time_range=\"day\",\n",
    "    # include_domains=None,\n",
    "    # exclude_domains=None\n",
    ")"
   ]
  },
  {
   "cell_type": "code",
   "execution_count": 6,
   "id": "8d05eff8-5220-427d-bc70-c1e1b2393e4f",
   "metadata": {},
   "outputs": [
    {
     "data": {
      "text/plain": [
       "{'query': 'What is the NSE stock symbol of IOCL?',\n",
       " 'follow_up_questions': None,\n",
       " 'answer': None,\n",
       " 'images': [],\n",
       " 'results': [{'title': 'Financial Analysis for IOC.NS',\n",
       "   'url': 'https://finance.yahoo.com/quote/IOC.NS/',\n",
       "   'content': 'Stock: IOC.NS\\nFinancial Analysis:\\nLatest Open Price: 143.00 Latest Close Price: 140.13 Highest Close Price: 180.77 Lowest Close Price: 77.06 Average Close Price (2 years): 136.06 Standard Deviation of Close Price: 26.95 Volume Traded (2 years): 10526077632 Total Return (2 years): 69.29% Annualized Return (2 years): 30.11% CAGR (2 years): 30.11% Sharpe Ratio (2 years): 1.12 Max Drawdown (2 years): 0.17% ',\n",
       "   'score': 0.98106,\n",
       "   'raw_content': None}],\n",
       " 'response_time': 4.67,\n",
       " 'request_id': 'c88be025-969a-4344-8b0e-9a683c77155a'}"
      ]
     },
     "execution_count": 6,
     "metadata": {},
     "output_type": "execute_result"
    }
   ],
   "source": [
    "tool.invoke({\"query\": \"What is the NSE stock symbol of IOCL?\"})"
   ]
  },
  {
   "cell_type": "code",
   "execution_count": null,
   "id": "49c6a478-52b7-4d13-9857-c404b4d11c0e",
   "metadata": {},
   "outputs": [],
   "source": []
  }
 ],
 "metadata": {
  "kernelspec": {
   "display_name": "Python 3 (ipykernel)",
   "language": "python",
   "name": "python3"
  },
  "language_info": {
   "codemirror_mode": {
    "name": "ipython",
    "version": 3
   },
   "file_extension": ".py",
   "mimetype": "text/x-python",
   "name": "python",
   "nbconvert_exporter": "python",
   "pygments_lexer": "ipython3",
   "version": "3.12.11"
  }
 },
 "nbformat": 4,
 "nbformat_minor": 5
}

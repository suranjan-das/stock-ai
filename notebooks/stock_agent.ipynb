{
 "cells": [
  {
   "cell_type": "code",
   "execution_count": 61,
   "id": "27bea238-a66d-49cf-9d03-b4c282ca4d80",
   "metadata": {},
   "outputs": [],
   "source": [
    "from IPython.display import Image, display\n",
    "import pandas as pd\n",
    "import json\n",
    "from dotenv import load_dotenv\n",
    "import time\n",
    "import yfinance as yf\n",
    "\n",
    "from fuzzywuzzy import process\n",
    "\n",
    "from langchain_openai import ChatOpenAI\n",
    "from langchain.chat_models import init_chat_model\n",
    "from langchain_core.messages import SystemMessage, HumanMessage, AnyMessage\n",
    "from langchain_core.messages import RemoveMessage\n",
    "from langchain_core.prompts import ChatPromptTemplate\n",
    "from langchain.prompts import PromptTemplate\n",
    "from langchain_core.tools import tool\n",
    "from langchain_core.runnables import RunnableConfig\n",
    "\n",
    "from langgraph.graph import StateGraph, START, END\n",
    "from langgraph.graph import MessagesState\n",
    "from langgraph.graph.message import add_messages\n",
    "from langgraph.graph.message import REMOVE_ALL_MESSAGES\n",
    "from langgraph.prebuilt import ToolNode\n",
    "from langgraph.prebuilt import tools_condition\n",
    "from langgraph.checkpoint.memory import MemorySaver\n",
    "\n",
    "from typing import TypedDict, Literal, Optional, Dict, Union\n",
    "from typing_extensions import Annotated\n",
    "from operator import add"
   ]
  },
  {
   "cell_type": "code",
   "execution_count": 62,
   "id": "139411ee-89f4-4a01-8dea-ad740a25d5fc",
   "metadata": {},
   "outputs": [
    {
     "data": {
      "text/plain": [
       "True"
      ]
     },
     "execution_count": 62,
     "metadata": {},
     "output_type": "execute_result"
    }
   ],
   "source": [
    "# Load env variables from .env.example\n",
    "load_dotenv(\"../.env\")"
   ]
  },
  {
   "cell_type": "code",
   "execution_count": 63,
   "id": "d24e435d-3875-4da7-91f8-fca635ecb5f6",
   "metadata": {},
   "outputs": [],
   "source": [
    "# Constants\n",
    "FUZZY_LIMIT = 5\n",
    "LOW_CONFIDENCE_THRESHOLD = 50  # Minimum score to consider\n",
    "HIGH_CONFIDENCE_THRESHOLD = 90  # If score ≥ 90, skip LLM"
   ]
  },
  {
   "cell_type": "code",
   "execution_count": 64,
   "id": "97e7c9a6-620f-4f25-81ee-7ed4b9e1bf3c",
   "metadata": {},
   "outputs": [],
   "source": [
    "# initialize model for large number of input tokens\n",
    "llmg = init_chat_model(\"gemini-2.0-flash\", model_provider=\"google_genai\")\n",
    "# Initialize the LLM\n",
    "llm = ChatOpenAI(model=\"gpt-4.1-nano\", temperature=0)"
   ]
  },
  {
   "cell_type": "code",
   "execution_count": 65,
   "id": "4e56a0f5-f450-4945-935d-cfb2eb14875e",
   "metadata": {},
   "outputs": [],
   "source": [
    "# Load CSV of NSE companies\n",
    "df = pd.read_csv(\"../data/EQUITY_L.csv\")  # Assumes columns: \"Company Name\", \"Symbol\"\n",
    "company_names = df[\"NAME OF COMPANY\"].tolist()"
   ]
  },
  {
   "cell_type": "code",
   "execution_count": 66,
   "id": "e9c8047a-3600-43bf-bc16-cef4a3d7ba93",
   "metadata": {},
   "outputs": [],
   "source": [
    "prompt_stock_query_check = ChatPromptTemplate.from_template(\n",
    "    \"Classify the last user message into one of these categories:\\n\"\n",
    "    \"Always give single response as simple string. \\n\"\n",
    "    \"- 'greeting': casual greeting like hello, hi, good morning.\\n\"\n",
    "    \"- 'non_stock': general query unrelated to stocks.\\n\"\n",
    "    \"- 'multi_stock': mentions more than one stock or general stock market trends.\\n\"\n",
    "    \"- 'single_stock': query about exactly one specific stock.\\n\\n\"\n",
    "    \"If 'greeting': greet back politely and say what stock-related help the app can do.\\n\"\n",
    "    \"If 'non_stock': politely reply this app can only answer stock-related queries.\\n\"\n",
    "    \"If 'multi_stock': say the app can only analyze one stock at a time.\\n\"\n",
    "    \"If 'single_stock': proceed with stock analysis.\\n\\n\"\n",
    "    \"Message: {message}\"\n",
    ")\n",
    "\n",
    "# Prompt to extract company name\n",
    "prompt_extract_symbol = ChatPromptTemplate.from_template(\n",
    "    \"Extract only the company or stock name from the user's stock-related messages. \"\n",
    "    \"Respond with the extracted company name as a single string. \"\n",
    "    \"messages: {messages}\"\n",
    ")\n",
    "# Prompt to answer user messages\n",
    "prompt_answer_messages = ChatPromptTemplate.from_template(\n",
    "    \"You are a helpful financial expert who can provide answers to user queries.\\n\\n\"\n",
    "    \"You are provided with structured stock-related data for a company: {stock_info}\\n\\n\"\n",
    "    \"The user has asked: {messages}\\n\\n\"\n",
    "    \"Your task:\\n\"\n",
    "    \"- If the messages can be answered using ONLY the provided data, give a clear, concise response (max 150 words).\\n\"\n",
    "    \"- If the data is insufficient to fully answer the messages, state clearly that the available information is not enough.\\n\\n\"\n",
    "    \"Do not use any external knowledge or assumptions. Base your answer strictly on the given data.\"\n",
    ")\n",
    "\n",
    "# prompt_detect_follow_up = ChatPromptTemplate.from_template(\n",
    "#     \"Classify if the last stock-related messages is a follow-up or new. \"\n",
    "#     \"Follow-up: refers to the stock in earlier queries without naming it, or uses terms like 'it', 'that stock', or 'reset session'. \"\n",
    "#     \"New: explicitly names a stock. \"\n",
    "#     \"Respond only with 'follow_up' or 'new'. \"\n",
    "#     \"Messages: {messages}\"\n",
    "# )\n",
    "\n",
    "prompt_route_all = ChatPromptTemplate.from_template(\n",
    "    \"You are a classifier for a stock analysis app.\\n\"\n",
    "    \"You will be given a list of messages. Consider the last message in the context of previous ones and classify it.\\n\\n\"\n",
    "    \"Return only one of the following labels:\\n\"\n",
    "    \"1. 'new' — The last message is about exactly one specific stock and explicitly names it.\\n\"\n",
    "    \"2. 'follow_up' — The last message refers to a stock discussed earlier without naming it, or uses terms like 'it', 'that stock', 'the same', 'reset session'.\\n\"\n",
    "    \"3. 'other' — The last message is a greeting, unrelated to stocks, mentions more than one stock, or is about general stock market trends.\\n\\n\"\n",
    "    \"Do not generate explanations or any additional text. Respond with exactly one label.\\n\\n\"\n",
    "    \"Messages: {messages}\"\n",
    ")\n",
    "\n",
    "prompt_handle_other = ChatPromptTemplate.from_template(\n",
    "    \"You are a polite assistant for a stock analysis app.\\n\"\n",
    "    \"You will be given the last user message.\\n\\n\"\n",
    "    \"Rules:\\n\"\n",
    "    \"1. If it is a simple greeting (hello, hi, good morning, how are you, etc.):\\n\"\n",
    "    \"   - Greet back warmly.\\n\"\n",
    "    \"   - Mention that this app can help analyze a single stock for short-term or long-term insights.\\n\"\n",
    "    \"2. For any other message:\\n\"\n",
    "    \"   - Politely explain that this app can only help with single stock analysis and cannot answer other types of questions.\\n\\n\"\n",
    "    \"Message: {message}\"\n",
    ")"
   ]
  },
  {
   "cell_type": "code",
   "execution_count": 67,
   "id": "ac5a94a3-1574-4d3f-9023-838da25c0ca1",
   "metadata": {},
   "outputs": [],
   "source": [
    "class GraphState(MessagesState):\n",
    "    non_stock: bool = False            # True if query is not stock related\n",
    "    follow_up: bool = None   # None until determined; then True/False\n",
    "    symbol: str = None       # Stock symbol, e.g., 'HDFCBANK'\n",
    "    stock_info: Dict = None  # Populated after fetching stock data\n",
    "    response: str = None     # Model's textual reply"
   ]
  },
  {
   "cell_type": "code",
   "execution_count": 68,
   "id": "aa75631b-9974-4add-8b59-38ccaf545eed",
   "metadata": {},
   "outputs": [],
   "source": [
    "# def classify_query(state: GraphState) -> dict:\n",
    "#     chain = prompt_route_all | llmg\n",
    "#     result = chain.invoke({\"messages\": state[\"messages\"]})\n",
    "#     if result.content.strip() == \"follow_up\":\n",
    "#         return {\"follow_up\": True, \"non_stock\": False}\n",
    "#     elif result.content.strip() == \"new\":\n",
    "#         if len(state[\"messages\"]) > 1:\n",
    "#             # remove the earliest two messages\n",
    "#             return {\"follow_up\": False, \"messages\": [RemoveMessage(id=m.id) for m in state[\"messages\"][:-1]]}\n",
    "#         return {\"follow_up\": False, \"non_stock\": False}\n",
    "#     else:\n",
    "#         return {\"non_stock\": True, \"response\": result, \"messages\": [RemoveMessage(id=m.id) for m in state[\"messages\"]]}"
   ]
  },
  {
   "cell_type": "code",
   "execution_count": 69,
   "id": "38014adf-ff8d-45ea-926a-2cb2ca885436",
   "metadata": {},
   "outputs": [],
   "source": [
    "def classify_query(state: GraphState) -> dict:\n",
    "    chain = prompt_route_all | llmg\n",
    "    result = chain.invoke({\"messages\": state[\"messages\"]}).content.strip()\n",
    "\n",
    "    if result == \"follow_up\":\n",
    "        return {\"follow_up\": True, \"non_stock\": False}\n",
    "\n",
    "    elif result == \"new\":\n",
    "        if len(state[\"messages\"]) > 1:\n",
    "            # keep only the latest message\n",
    "            return {\n",
    "                \"follow_up\": False,\n",
    "                \"non_stock\": False,\n",
    "                \"messages\": [RemoveMessage(id=m.id) for m in state[\"messages\"][:-1]]\n",
    "            }\n",
    "        return {\"follow_up\": False, \"non_stock\": False}\n",
    "\n",
    "    else:  # \"other\"\n",
    "        return {\n",
    "            \"non_stock\": True,\n",
    "            \"follow_up\": False,\n",
    "            \"messages\": [RemoveMessage(id=m.id) for m in state[\"messages\"][:-1]]\n",
    "        }\n"
   ]
  },
  {
   "cell_type": "code",
   "execution_count": 70,
   "id": "535a49f5-ccec-4ac2-9466-7a6676c61992",
   "metadata": {},
   "outputs": [],
   "source": [
    "# Node to extract company symbol for single stock queries\n",
    "def extract_symbol(state: GraphState) -> GraphState:\n",
    "    symbol = \"NO_MATCH\"\n",
    "    chain = prompt_extract_symbol | llm\n",
    "    extracted_name = chain.invoke({\"messages\": state[\"messages\"]}).content.strip()\n",
    "    # Fuzzy matching\n",
    "    matches = process.extract(extracted_name, company_names, limit=FUZZY_LIMIT)\n",
    "    best_match, best_score = matches[0]\n",
    "    # High-confidence match\n",
    "    if best_score >= HIGH_CONFIDENCE_THRESHOLD:\n",
    "        symbol = df[df[\"NAME OF COMPANY\"] == best_match][\"SYMBOL\"].values[0]\n",
    "    \n",
    "    return {\"symbol\": symbol}"
   ]
  },
  {
   "cell_type": "code",
   "execution_count": 71,
   "id": "0aed5844-1fa7-4d56-a07a-e2dd85ea31dd",
   "metadata": {},
   "outputs": [],
   "source": [
    "# Node to fetch stock data\n",
    "def get_stock_info(state: GraphState) -> GraphState:\n",
    "    if state[\"symbol\"] == \"NO_MATCH\":\n",
    "        return {\"stock_info\": {\"data\": \"No data available\"}}  # Response already set in extract_symbol\n",
    "    try:\n",
    "        stock_symbol = state[\"symbol\"]\n",
    "        stock = yf.Ticker(f\"{stock_symbol}.NS\")\n",
    "        info = stock.info\n",
    "        # Read the CSV that contains the keys to keep\n",
    "        keys_df = pd.read_csv(\"../important_keys.csv\", header=None)\n",
    "        keys_to_keep = set(keys_df.iloc[0].dropna().tolist())\n",
    "        # Filter dictionary\n",
    "        filtered_info = {k: v for k, v in info.items() if k in keys_to_keep}\n",
    "    except Exception as e:\n",
    "        filtered_info = {\"data\": \"No data available\"}\n",
    "    return {\"stock_info\": filtered_info}"
   ]
  },
  {
   "cell_type": "code",
   "execution_count": 72,
   "id": "20568244-4110-4095-b824-42deda02567a",
   "metadata": {},
   "outputs": [],
   "source": [
    "# # node to get news data\n",
    "# def get_stock_news_info(state: GraphState, count=5) -> GraphState:\n",
    "#     news_string = \"\"\n",
    "#     if state[\"include_news\"]:\n",
    "#         if state[\"symbol\"] == \"NO_MATCH\":\n",
    "#             return state  # Response already set in extract_symbol\n",
    "#         try:\n",
    "#             stock_symbol = state[\"symbol\"]\n",
    "#             stock = yf.Ticker(f\"{stock_symbol}.NS\")\n",
    "#             news = stock.get_news(count=count)\n",
    "#             for article in news:\n",
    "#                 news_string += f\"'Publication Date': {news['content']['pubDate'][:10]}\\nsummary:  {news['content']['summary']}\\n\"\n",
    "#             state['news'] = news_string\n",
    "#         except Exception as e:\n",
    "#             pass\n",
    "#     return state"
   ]
  },
  {
   "cell_type": "code",
   "execution_count": 73,
   "id": "590d3fa2-67eb-437f-b417-1a32cbc5c247",
   "metadata": {},
   "outputs": [],
   "source": [
    "def route_query(state: GraphState) -> Literal[\"follow_up\", \"new\", \"other\"]:\n",
    "    if state.get(\"non_stock\"):\n",
    "        return \"other\"\n",
    "    elif state.get(\"follow_up\"):\n",
    "        return \"follow_up\"\n",
    "    else:\n",
    "        return \"new\"\n"
   ]
  },
  {
   "cell_type": "code",
   "execution_count": 74,
   "id": "1386c649-b1cd-44bf-818b-2e09e36fcf9b",
   "metadata": {},
   "outputs": [],
   "source": [
    "# # Node to answer user messages\n",
    "# def answer_user_messages(state: GraphState) -> Optional[Union[dict, GraphState]]:\n",
    "#     if state.get(\"non_stock\", False):\n",
    "#         return state  # Just return current state without changes\n",
    "    \n",
    "#     chain = prompt_answer_messages | llmg\n",
    "    \n",
    "#     formatted_info = json.dumps(state.get(\"stock_info\", {}), indent=2)\n",
    "    \n",
    "#     result = chain.invoke({\n",
    "#         \"messages\": state[\"messages\"][-1],\n",
    "#         \"stock_info\": formatted_info\n",
    "#     })\n",
    "    \n",
    "#     return {\"response\": result}"
   ]
  },
  {
   "cell_type": "code",
   "execution_count": 75,
   "id": "b9b667b1-0dfd-42ca-a1b2-d7cf6bb047b4",
   "metadata": {},
   "outputs": [],
   "source": [
    "def answer_user_messages(state: GraphState) -> Optional[Union[dict, GraphState]]:\n",
    "    # Handle \"other\" type queries (non-stock, greetings, multi-stock)\n",
    "    if state.get(\"non_stock\", False):\n",
    "        chain = prompt_handle_other | llmg\n",
    "        result = chain.invoke({\"message\": state[\"messages\"][-1]})\n",
    "        return {\"response\": result}\n",
    "\n",
    "    # Handle single-stock queries (follow_up or new)\n",
    "    chain = prompt_answer_messages | llmg\n",
    "    formatted_info = json.dumps(state.get(\"stock_info\", {}), indent=2)\n",
    "    result = chain.invoke({\n",
    "        \"messages\": state[\"messages\"][-1],\n",
    "        \"stock_info\": formatted_info\n",
    "    })\n",
    "\n",
    "    return {\"response\": result}\n"
   ]
  },
  {
   "cell_type": "code",
   "execution_count": 76,
   "id": "2df4efd0-742b-4d50-b4ad-23000681a3ab",
   "metadata": {},
   "outputs": [
    {
     "data": {
      "text/plain": [
       "<langgraph.graph.state.StateGraph at 0x28057a24740>"
      ]
     },
     "execution_count": 76,
     "metadata": {},
     "output_type": "execute_result"
    }
   ],
   "source": [
    "# Build the graph\n",
    "workflow = StateGraph(GraphState)\n",
    "\n",
    "workflow.add_node(\"extract_symbol\", extract_symbol)\n",
    "workflow.add_node(\"get_stock_info\", get_stock_info)\n",
    "workflow.add_node(\"answer_user_messages\", answer_user_messages)\n",
    "workflow.add_node(\"classify_query\", classify_query)\n",
    "\n",
    "workflow.add_edge(START, \"classify_query\")\n",
    "workflow.add_conditional_edges(\n",
    "    \"classify_query\",\n",
    "    route_query,\n",
    "    {\n",
    "        \"follow_up\": \"answer_user_messages\",\n",
    "        \"new\": \"extract_symbol\",\n",
    "        \"other\": \"answer_user_messages\"\n",
    "    }\n",
    ")\n",
    "# workflow.add_edge(START, \"extract_symbol\")\n",
    "# workflow.add_edge(\"detect_follow_up\", \"extract_symbol\")\n",
    "workflow.add_edge(\"extract_symbol\", \"get_stock_info\")\n",
    "workflow.add_edge(\"get_stock_info\", \"answer_user_messages\")\n",
    "# workflow.add_edge(\"get_stock_news_info\", \"answer_user_messages\")\n",
    "workflow.add_edge(\"answer_user_messages\", END)"
   ]
  },
  {
   "cell_type": "code",
   "execution_count": 77,
   "id": "7bff0a80-7133-458a-b7f7-8f270556f6e0",
   "metadata": {},
   "outputs": [],
   "source": [
    "# Configure memory\n",
    "checkpointer = MemorySaver()\n",
    "# Compile the graph with checkpointer\n",
    "app = workflow.compile(checkpointer=checkpointer)"
   ]
  },
  {
   "cell_type": "code",
   "execution_count": 78,
   "id": "0169d086-15fa-4516-a1a8-dc05f54844dc",
   "metadata": {},
   "outputs": [
    {
     "data": {
      "image/png": "[encoded data removed]",
      "text/plain": [
       "<IPython.core.display.Image object>"
      ]
     },
     "metadata": {},
     "output_type": "display_data"
    }
   ],
   "source": [
    "# View\n",
    "display(Image(app.get_graph().draw_mermaid_png()))"
   ]
  },
  {
   "cell_type": "code",
   "execution_count": 79,
   "id": "c46d86d2-96f4-429a-ac20-e883dc051f15",
   "metadata": {},
   "outputs": [],
   "source": [
    "# thread_id = \"1\"  # Unique identifier for user session\n",
    "# config = {\"configurable\": {\"thread_id\": thread_id, \"checkpointer\": checkpointer}}"
   ]
  },
  {
   "cell_type": "code",
   "execution_count": 80,
   "id": "8374e528-3068-480c-bfb5-0dbb646d16bf",
   "metadata": {},
   "outputs": [],
   "source": [
    "# # Test with a single stock messages\n",
    "# messages = HumanMessage(input())\n",
    "# result = app.invoke({\"messages\": messages}, config=config)\n",
    "# print(result[\"response\"].content)"
   ]
  },
  {
   "cell_type": "code",
   "execution_count": 81,
   "id": "2241efd7-1c95-41fa-953b-489c5620d0a5",
   "metadata": {},
   "outputs": [],
   "source": [
    "# message = [HumanMessage(content='What is the value of ABB india today?', additional_kwargs={}, response_metadata={}, id='47d48867-a9a4-442b-9d69-21e5629f61e6'),\n",
    "#            HumanMessage(content='Cool, what is the current P/E?', additional_kwargs={}, response_metadata={}, id='3a7b32f5-371b-45e9-acd6-a6dfbe6ea36c'),\n",
    "#            HumanMessage(content='How much NTPC is trading for today?', additional_kwargs={}, response_metadata={}, id='92f935b3-a30e-4ee0-bf26-e2e8c3cac810')]\n",
    "\n",
    "# message = [RemoveMessage(id=m.id) for m in message[:len(message)-1]]\n",
    "# message"
   ]
  },
  {
   "cell_type": "code",
   "execution_count": 82,
   "id": "8875d048-823d-4072-bbb5-c822b395c617",
   "metadata": {},
   "outputs": [],
   "source": [
    "# Start conversation\n",
    "# input_message = HumanMessage(content=\"hi!\")\n",
    "# for event in app.stream({\"messages\": [input_message]}, config, stream_mode=\"values\"):\n",
    "#     for m in event['messages']:\n",
    "#         m.pretty_print()\n",
    "#     print(\"---\"*25)"
   ]
  },
  {
   "cell_type": "code",
   "execution_count": 83,
   "id": "043697ab-3daa-45de-be7c-2085ce0c6751",
   "metadata": {},
   "outputs": [
    {
     "name": "stdin",
     "output_type": "stream",
     "text": [
      " hi\n"
     ]
    },
    {
     "name": "stdout",
     "output_type": "stream",
     "text": [
      "Node: . Type: on_chain_start. Name: LangGraph\n",
      "Node: classify_query. Type: on_chain_start. Name: classify_query\n",
      "Node: classify_query. Type: on_chain_start. Name: RunnableSequence\n",
      "Node: classify_query. Type: on_prompt_start. Name: ChatPromptTemplate\n",
      "Node: classify_query. Type: on_prompt_end. Name: ChatPromptTemplate\n",
      "Node: classify_query. Type: on_chat_model_start. Name: ChatGoogleGenerativeAI\n",
      "Node: classify_query. Type: on_chat_model_stream. Name: ChatGoogleGenerativeAI\n",
      "Node: classify_query. Type: on_chat_model_stream. Name: ChatGoogleGenerativeAI\n",
      "Node: classify_query. Type: on_chat_model_end. Name: ChatGoogleGenerativeAI\n",
      "Node: classify_query. Type: on_chain_end. Name: RunnableSequence\n",
      "Node: classify_query. Type: on_chain_start. Name: route_query\n",
      "Node: classify_query. Type: on_chain_end. Name: route_query\n",
      "Node: classify_query. Type: on_chain_stream. Name: classify_query\n",
      "Node: classify_query. Type: on_chain_end. Name: classify_query\n",
      "Node: . Type: on_chain_stream. Name: LangGraph\n",
      "Node: answer_user_messages. Type: on_chain_start. Name: answer_user_messages\n",
      "Node: answer_user_messages. Type: on_chain_start. Name: RunnableSequence\n",
      "Node: answer_user_messages. Type: on_prompt_start. Name: ChatPromptTemplate\n",
      "Node: answer_user_messages. Type: on_prompt_end. Name: ChatPromptTemplate\n",
      "Node: answer_user_messages. Type: on_chat_model_start. Name: ChatGoogleGenerativeAI\n",
      "Node: answer_user_messages. Type: on_chat_model_stream. Name: ChatGoogleGenerativeAI\n",
      "Node: answer_user_messages. Type: on_chat_model_stream. Name: ChatGoogleGenerativeAI\n",
      "Node: answer_user_messages. Type: on_chat_model_stream. Name: ChatGoogleGenerativeAI\n",
      "Node: answer_user_messages. Type: on_chat_model_stream. Name: ChatGoogleGenerativeAI\n",
      "Node: answer_user_messages. Type: on_chat_model_stream. Name: ChatGoogleGenerativeAI\n",
      "Node: answer_user_messages. Type: on_chat_model_end. Name: ChatGoogleGenerativeAI\n",
      "Node: answer_user_messages. Type: on_chain_end. Name: RunnableSequence\n",
      "Node: answer_user_messages. Type: on_chain_stream. Name: answer_user_messages\n",
      "Node: answer_user_messages. Type: on_chain_end. Name: answer_user_messages\n",
      "Node: . Type: on_chain_stream. Name: LangGraph\n",
      "Node: . Type: on_chain_end. Name: LangGraph\n"
     ]
    }
   ],
   "source": [
    "config = {\"configurable\": {\"thread_id\": \"3\"}}\n",
    "input_message = HumanMessage(content=input())\n",
    "async for event in app.astream_events({\"messages\": [input_message]}, config, version=\"v2\"):\n",
    "    print(f\"Node: {event['metadata'].get('langgraph_node','')}. Type: {event['event']}. Name: {event['name']}\")"
   ]
  },
  {
   "cell_type": "code",
   "execution_count": 84,
   "id": "2401a83e-c610-4091-977b-d74605445f06",
   "metadata": {
    "scrolled": true
   },
   "outputs": [],
   "source": [
    "# node_to_stream = 'answer_user_messages'\n",
    "# config = {\"configurable\": {\"thread_id\": \"4\"}}\n",
    "# input_message = HumanMessage(content=\"Hello\")\n",
    "# async for event in app.astream_events({\"messages\": [input_message]}, config, version=\"v2\"):\n",
    "#     # Get chat model tokens from a particular node \n",
    "#     if event[\"event\"] in [\"on_chat_model_stream\", \"on_chain_stream\"] and event['metadata'].get('langgraph_node','') == node_to_stream:\n",
    "#         print(event[\"data\"])"
   ]
  },
  {
   "cell_type": "code",
   "execution_count": 85,
   "id": "a517d427-46ab-4e26-beef-de22654c5b9c",
   "metadata": {},
   "outputs": [],
   "source": [
    "# node_to_stream = 'answer_user_messages'\n",
    "# config = {\"configurable\": {\"thread_id\": \"4\"}}\n",
    "# input_message = HumanMessage(content=\"What is the value of NTPC today?\")\n",
    "# async for event in app.astream_events({\"messages\": [input_message]}, config, version=\"v2\"):\n",
    "#     # Get chat model tokens from a particular node \n",
    "#     if event[\"event\"] in [\"on_chat_model_stream\", \"on_chain_stream\"] and event['metadata'].get('langgraph_node','') == node_to_stream:\n",
    "#         print(event[\"data\"])"
   ]
  },
  {
   "cell_type": "code",
   "execution_count": 90,
   "id": "ff327217-7477-4648-bd1a-7bdf52bc05a9",
   "metadata": {},
   "outputs": [
    {
     "name": "stdin",
     "output_type": "stream",
     "text": [
      " and P/E?\n"
     ]
    },
    {
     "name": "stdout",
     "output_type": "stream",
     "text": [
      "Based| on the provided data, the forward Price-to-Earnings (P/E) ratio| for NTPC Limited is 14.086759. There| is no trailing P/E ratio available.\n",
      "|"
     ]
    }
   ],
   "source": [
    "config = {\"configurable\": {\"thread_id\": \"5\"}}\n",
    "input_message = HumanMessage(content=input())\n",
    "async for event in app.astream_events({\"messages\": [input_message]}, config, version=\"v2\"):\n",
    "    # Get chat model tokens from a particular node \n",
    "    if event[\"event\"] == \"on_chat_model_stream\" and event['metadata'].get('langgraph_node','') == node_to_stream:\n",
    "        data = event[\"data\"]\n",
    "        print(data[\"chunk\"].content, end=\"|\")"
   ]
  },
  {
   "cell_type": "code",
   "execution_count": null,
   "id": "bdbee33d-dada-4346-a633-c721fda8dcfb",
   "metadata": {},
   "outputs": [],
   "source": []
  }
 ],
 "metadata": {
  "kernelspec": {
   "display_name": "Python 3 (ipykernel)",
   "language": "python",
   "name": "python3"
  },
  "language_info": {
   "codemirror_mode": {
    "name": "ipython",
    "version": 3
   },
   "file_extension": ".py",
   "mimetype": "text/x-python",
   "name": "python",
   "nbconvert_exporter": "python",
   "pygments_lexer": "ipython3",
   "version": "3.12.11"
  }
 },
 "nbformat": 4,
 "nbformat_minor": 5
}
